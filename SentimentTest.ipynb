{
  "nbformat": 4,
  "nbformat_minor": 0,
  "metadata": {
    "colab": {
      "provenance": [],
      "authorship_tag": "ABX9TyMe1lPYewJU7EwQ+Fhb23DX",
      "include_colab_link": true
    },
    "kernelspec": {
      "name": "python3",
      "display_name": "Python 3"
    },
    "language_info": {
      "name": "python"
    }
  },
  "cells": [
    {
      "cell_type": "markdown",
      "metadata": {
        "id": "view-in-github",
        "colab_type": "text"
      },
      "source": [
        "<a href=\"https://colab.research.google.com/github/ugur-sa/Bachelorarbeit/blob/main/SentimentTest.ipynb\" target=\"_parent\"><img src=\"https://colab.research.google.com/assets/colab-badge.svg\" alt=\"Open In Colab\"/></a>"
      ]
    },
    {
      "cell_type": "code",
      "source": [
        "from bs4 import BeautifulSoup\n",
        "import requests\n",
        "\n",
        "res = requests.get(\"https://finance.yahoo.com/news/us-stocks-p-500-wobbles-210042198.html\")\n",
        "\n",
        "soup = BeautifulSoup(res.text, \"html.parser\")\n",
        "\n",
        "for meta in soup.find_all(\"meta\"):\n",
        "    meta.decompose()\n",
        "\n",
        "for script in soup.find_all(\"script\"):\n",
        "    script.decompose()\n",
        "\n",
        "for noscript in soup.find_all(\"noscript\"):\n",
        "    noscript.decompose()\n",
        "\n",
        "for link in soup.find_all(\"link\"):\n",
        "    link.decompose()\n",
        "\n",
        "for style in soup.find_all(\"style\"):\n",
        "    style.decompose()\n",
        "\n",
        "for html in soup.find_all('html'):\n",
        "    html.unwrap()\n",
        "\n",
        "# title = soup.find(\"title\").text\n",
        "\n",
        "soup = soup.find(\"div\", attrs={'class':'caas-body'})"
      ],
      "metadata": {
        "id": "LhSPYOfPnEcg"
      },
      "execution_count": 29,
      "outputs": []
    },
    {
      "cell_type": "code",
      "source": [
        "for div in soup.find_all('div'):\n",
        "    div.unwrap()\n",
        "\n",
        "for ul in soup.find_all('ul'):\n",
        "    # Finde das unmittelbar vorhergehende <p>-Tag, wenn vorhanden\n",
        "    p_tag = ul.find_previous_sibling('p')\n",
        "\n",
        "    # Wenn ein <p>-Tag gefunden wurde, entferne es\n",
        "    if p_tag:\n",
        "        p_tag.decompose()\n",
        "\n",
        "# Entferne alle <div>-Elemente\n",
        "for ul in soup.find_all(\"ul\"):\n",
        "    ul.decompose()\n",
        "\n",
        "for button in soup.find_all(\"button\"):\n",
        "    button.decompose()\n",
        "\n",
        "for p_tag in soup.find_all('p', string=\"©2023 Bloomberg L.P.\"):\n",
        "    p_tag.decompose()\n",
        "\n",
        "# text_lines = [p.get_text() + '\\n' for p in soup.find_all('p')]\n",
        "\n",
        "for p in soup.find_all('p'):\n",
        "  print(p.text)\n",
        "\n",
        "# print(text_lines)"
      ],
      "metadata": {
        "colab": {
          "base_uri": "https://localhost:8080/"
        },
        "id": "EAdeeodMp5XO",
        "outputId": "9b1c8f23-941a-4ca7-a420-bc74cb22418d"
      },
      "execution_count": 30,
      "outputs": [
        {
          "output_type": "stream",
          "name": "stdout",
          "text": [
            "*\n",
            "General Motors gains on share buyback plan\n",
            "*\n",
            "U.S. Q3 GDP revised higher\n",
            "*\n",
            "NetApp surges hiking profit forecast\n",
            "(Updates to market close)\n",
            "By Stephen Culp\n",
            "NEW YORK, Nov 29 (Reuters) -\n",
            "U.S. stocks edged lower on Wednesday as a robust upward GDP revision eased recession fears, while Federal Reserve officials' remarks raised questions about the duration of the central bank's restrictive policy ahead of inflation data due early Thursday.\n",
            "The Nasdaq joined the S&P 500 in negative territory, while the Dow ended essentially flat.\n",
            "Despite the indexes' languid movement over the last three sessions, November has been a banner month. The S&P 500 remains on track to notch its biggest monthly percentage gain since July 2022.\n",
            "\"The market has had huge returns, so there's certainly profit taking and repositioning; there's some consolidation going on here,\" said Tim Ghriskey, senior portfolio strategist Ingalls & Snyder in New York. \"We've had very strong earnings and there's a lot of optimism. And because of that, there's a repositioning of gains.\"\n",
            "In contrast to Barkin, Fed Governor Christopher Waller, widely considered a hawk, provided reassurance on Tuesday that the Fed has probably reached the end of its rate hike cycle. He hinted at the possibility of cutting rates in the near term to engineer a \"soft landing\" and avoid recession.\n",
            "\"The Fed's on hold now, but the mantra is still higher for longer,\" Ghriskey added. \"The economy continues to be relatively strong there's no reason for the Fed to lower rates and risk a re-emergence of inflation.\"\n",
            "Indeed, on Wednesday Cleveland Fed President Loretta Mester reiterated the central bank's need to remain \"nimble\" in its response to economic data.\n",
            "Earlier in the session the Commerce Department upwardly revised its initial estimate on third-quarter gross domestic product, which underscored U.S. economic resilience but also appeared to give the Fed little reason to start cutting rates in the near future, as long as inflation remains well above its 2% target.\n",
            "The Fed's Beige Book, which provides a region-by-region snapshot of the U.S. economy, was released mid-afternoon, showing economic activity has slowed modestly under the central bank's restrictive monetary policy.\n",
            "Unofficially, the Dow Jones Industrial Average rose 13.84 points, or 0.04%, to 35,430.82, the S&P 500 lost 4.25 points, or 0.09%, to 4,550.64 and the Nasdaq Composite dropped 23.27 points, or 0.16%, to 14,258.49.\n",
            "Interest rate sensitive momentum stocks, led by Microsoft Corp and Apple Inc were the heaviest weights on the S&P 500.\n",
            "Shares of Humana Inc and Cigna Group were sharply lower after a source familiar with the matter said the health insurers are in talks to merge.\n",
            "General Motors jumped after the automaker announced a $10 billion share buyback and a 33% dividend boost. Ford Motor Co shares advanced as well.\n",
            "CrowdStrike Holdings surged following its consensus-beating fourth-quarter revenue forecast.\n",
            "NetApp leaped after the cloud-based data management platform increased its annual profit forecast.\n",
            "(Reporting by Stephen Culp; Additional reporting by Shristi Achar A and Amruta Khandekar in Bengaluru; Editing by Richard Chang)\n"
          ]
        }
      ]
    },
    {
      "cell_type": "markdown",
      "source": [
        "Klassifiziere die Nachricht mit einem vortrainierten Modell mit der Huggingsface Bibliothek und PyTorch"
      ],
      "metadata": {
        "id": "_Qi8Hmbgq8Lo"
      }
    },
    {
      "cell_type": "code",
      "source": [
        "from transformers import AutoModelForSequenceClassification, AutoTokenizer\n",
        "import torch\n",
        "\n",
        "model_name = \"nickmuchi/distilroberta-finetuned-financial-text-classification\"\n",
        "\n",
        "tokenizer = AutoTokenizer.from_pretrained(model_name)\n",
        "model = AutoModelForSequenceClassification.from_pretrained(model_name)\n",
        "\n",
        "# Dein Text\n",
        "text = \"\"\n",
        "\n",
        "for p in soup.find_all('p'):\n",
        "  text = text + p.text + \"\\n\"\n",
        "# Tokenisiere den Text\n",
        "inputs = tokenizer(text, return_tensors=\"pt\", padding=True, truncation=True, max_length=512)\n",
        "\n",
        "# Wende das Modell an\n",
        "with torch.no_grad():\n",
        "    outputs = model(**inputs)\n",
        "\n",
        "# Hole die Modellvorhersagen\n",
        "predictions = outputs.logits\n",
        "\n",
        "# Konvertiere Vorhersagen in Wahrscheinlichkeiten und hole das maximale\n",
        "predictions = torch.nn.functional.softmax(predictions, dim=1)\n",
        "predicted_class = torch.argmax(predictions).item()\n",
        "\n",
        "# Zuordnung der Klassen\n",
        "classes = [\"bearish\", \"neutral\", \"bullish\"]\n",
        "\n",
        "# Ergebnis\n",
        "print(f\"Sentiment: {classes[predicted_class]}\")\n"
      ],
      "metadata": {
        "colab": {
          "base_uri": "https://localhost:8080/"
        },
        "id": "Fd0hdSkCq7nr",
        "outputId": "595217e2-7933-4ed0-bd38-a74021c45b2d"
      },
      "execution_count": 31,
      "outputs": [
        {
          "output_type": "stream",
          "name": "stdout",
          "text": [
            "Sentiment: bullish\n"
          ]
        }
      ]
    }
  ]
}