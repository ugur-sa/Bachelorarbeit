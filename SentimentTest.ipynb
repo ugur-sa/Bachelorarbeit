{
  "nbformat": 4,
  "nbformat_minor": 0,
  "metadata": {
    "colab": {
      "provenance": [],
      "authorship_tag": "ABX9TyMKzgHyaSfgbYoQiDjlUFSh",
      "include_colab_link": true
    },
    "kernelspec": {
      "name": "python3",
      "display_name": "Python 3"
    },
    "language_info": {
      "name": "python"
    }
  },
  "cells": [
    {
      "cell_type": "markdown",
      "metadata": {
        "id": "view-in-github",
        "colab_type": "text"
      },
      "source": [
        "<a href=\"https://colab.research.google.com/github/ugur-sa/Bachelorarbeit/blob/main/SentimentTest.ipynb\" target=\"_parent\"><img src=\"https://colab.research.google.com/assets/colab-badge.svg\" alt=\"Open In Colab\"/></a>"
      ]
    },
    {
      "cell_type": "markdown",
      "source": [
        "Zur Umsetzung in der Bachelorarbeit müssen noch einige Sachen beachtet werden:\n",
        "\n",
        "\n",
        "*   Beim Abrufen der Startseite von Yahoo Finance News wird das HTML Dokument geladen, welches noch unvollständig ist, da Javascript noch nicht gelaufen ist.\n",
        "Das führt dazu, dass wichtige Elemente nicht im Dokument vorhanden sind (in diesem Beispiel gibt es ein div-Element mit dem Inhalt \"Business\", wodurch man weiß, ob der Artikel relevant ist oder nicht und dieser kommt erst mit Javascript). Eine Lösung wäre, das Scraping mit Selenium vorzunehmen, da damit auch das Javascript laufen gelassen werden kann. Damit wird es auch möglich sein auf der Seite runterzuscrollen, um ältere Nachrichten zu laden und scrapen.\n",
        "Sobald man die einzelnen Links zu den Nachrichten hat, kann man diese Liste weiter an den Code unten geben.\n",
        "\n"
      ],
      "metadata": {
        "id": "7ZKJDzRBwos5"
      }
    },
    {
      "cell_type": "markdown",
      "source": [
        "Hole HTML-Dokument der Nachricht über dessen Link und ziehe dort das div-Element mit dem Nachrichtentext raus."
      ],
      "metadata": {
        "id": "i9O0E1v-r_eD"
      }
    },
    {
      "cell_type": "code",
      "source": [
        "from bs4 import BeautifulSoup\n",
        "import requests\n",
        "\n",
        "res = requests.get(\"https://finance.yahoo.com/news/global-markets-shares-gain-dollar-190503894.html\")\n",
        "\n",
        "soup = BeautifulSoup(res.text, \"html.parser\")\n",
        "\n",
        "title = soup.find(\"title\").text\n",
        "print(title)\n",
        "\n",
        "soup = soup.find(\"div\", attrs={'class':'caas-body'})"
      ],
      "metadata": {
        "id": "LhSPYOfPnEcg",
        "colab": {
          "base_uri": "https://localhost:8080/"
        },
        "outputId": "d4ab3dc6-adff-4ce7-bf6f-2c037461abe7"
      },
      "execution_count": null,
      "outputs": [
        {
          "output_type": "stream",
          "name": "stdout",
          "text": [
            "GLOBAL MARKETS-Shares gain, dollar falls with Fed comments inspiring dovish bets\n"
          ]
        }
      ]
    },
    {
      "cell_type": "markdown",
      "source": [
        "Hier wird weiter gearbeitet mit dem Div-Element, dass den Nachrichtentext enthält. Hierbei wird der pure Text extrahiert und Listen, Buttons und die Tags selber entfernt."
      ],
      "metadata": {
        "id": "nibLTftusES1"
      }
    },
    {
      "cell_type": "code",
      "source": [
        "for div in soup.find_all('div'):\n",
        "    div.unwrap()\n",
        "\n",
        "for ul in soup.find_all('ul'):\n",
        "    # Finde das unmittelbar vorhergehende <p>-Tag, wenn vorhanden\n",
        "    p_tag = ul.find_previous_sibling('p')\n",
        "\n",
        "    # Wenn ein <p>-Tag gefunden wurde, entferne es\n",
        "    if p_tag:\n",
        "        p_tag.decompose()\n",
        "\n",
        "# Entferne alle <div>-Elemente\n",
        "for ul in soup.find_all(\"ul\"):\n",
        "    ul.decompose()\n",
        "\n",
        "for button in soup.find_all(\"button\"):\n",
        "    button.decompose()\n",
        "\n",
        "for p_tag in soup.find_all('p', string=\"©2023 Bloomberg L.P.\"):\n",
        "    p_tag.decompose()\n",
        "\n",
        "# text_lines = [p.get_text() + '\\n' for p in soup.find_all('p')]\n",
        "\n",
        "for p in soup.find_all('p'):\n",
        "  print(p.text)\n",
        "\n",
        "# print(text_lines)"
      ],
      "metadata": {
        "id": "EAdeeodMp5XO",
        "colab": {
          "base_uri": "https://localhost:8080/"
        },
        "outputId": "5ecf2ad4-2f70-4c95-8e40-5a971a2c6aed"
      },
      "execution_count": null,
      "outputs": [
        {
          "output_type": "stream",
          "name": "stdout",
          "text": [
            "(Updates at 01:39 p.m ET/1839 GMT)\n",
            "By Sinéad Carew and Amanda Cooper\n",
            "NEW YORK/LONDON, Dec 1 (Reuters) - MSCI's global stock index gained ground on Friday, while U.S. Treasury yields and the dollar were lower after Federal Reserve Chair Jerome Powell vowed to move \"carefully\" on interest rates.\n",
            "Treasury yields fell after Powell said the risks of hiking interest rates too much and slowing the economy more than necessary have become \"more balanced\" with the risks of not hiking enough to control inflation.\n",
            "\"Powell is trying to be balanced, trying to make sure the market doesn't get ahead of itself. He doesn't want the market or traders to speculate on rate decreases,\" said Tim Ghriskey, senior portfolio strategist at Ingalls & Snyder in New York.\n",
            "\"He's all about the data, and the core inflation data over the last six months has been good. But he reiterates the objective is still 2% and he doesn't want all the work the Fed has done to bring inflation down to suddenly be reversed.\"\n",
            "But while Powell tried to \"subtly convince markets\" of the Fed's commitment to keep rates high, Karl Schamotta, chief market strategist at Corpay in Toronto doubted this would \"deter investors betting on a dramatic pivot in early 2024.\"\n",
            "Investor optimism about rate cuts surged earlier this week after Fed Governor Christopher Waller - widely seen as a hawkish policymaker - flagged the possibility of lower interest rates in coming months if inflation continued to ease.\n",
            "\"The lack of pushing back on Waller leads the market to conclude that Powell's okay with where equities and long-term treasury yields have been going recently,\" said Josh Jamner, investment strategy analyst at Clearbridge Investments, New York.\n",
            "The Dow Jones Industrial Average rose 231.02 points, or 0.64%, to 36,181.91, the S&P 500 gained 18.77 points, or 0.41%, to 4,586.57 and the Nasdaq Composite added 39.41 points, or 0.28%, to 14,265.63.\n",
            "The pan-European STOXX 600 index closed up 0.99% and MSCI's gauge of stocks across the globe gained 0.48%.\n",
            "Earlier on Friday, the Institute for Supply Management (ISM) said its manufacturing PMI was unchanged at 46.7 last month. It was the 13th consecutive month the PMI stayed below 50, indicating a contraction in manufacturing and the longest such stretch since the period from August 2000 to January 2002.\n",
            "Mona Mahajan, senior investment strategist at Edward Jones said Friday's data supported the idea of lower inflation, a gradually cooling economy and the Fed staying on the sidelines.\n",
            "In currencies, the dollar fell after two days of gains.\n",
            "Jeffery J. Roach, chief economist at LPL Financial noted that a few weeks ago, Powell described policy as restrictive but today, he said it is 'well into restrictive territory.' Roach said \"it's fair for markets to latch on to that subtlety.\"\n",
            "The dollar index fell 0.29%, with the euro up 0.02% to $1.0888. The Japanese yen strengthened 0.98% versus the greenback to 146.76 per dollar.\n",
            "Sterling was last trading at $1.2707, up 0.67% on the day supported by expectations the Bank of England will take longer than either the Fed or the ECB to cut rates.\n",
            "Benchmark 10-year Treasury yields were down 13.1 basis points to 4.219% from 4.35% late on Thursday. The 30-year bond yield was last down 10.9 basis points at 4.4024% and the 2-year yield was down 15.4 basis points at 4.5611%.\n",
            "Oil prices extended losses after Thursday's 2% drop, with the market unconvinced that the latest round of OPEC+ production cuts will be able to lift prices from a recent slump.\n",
            "U.S. crude was 1.87% lower at $74.54 per barrel and Brent was at $79.51, down 1.67% on the day.\n",
            "Gold surged to a record high of $2,075.09, also lifted by expectations the Fed was done with policy tightening and could cut rates next year. Spot gold was last 1.7% higher $2,071.26 an ounce after paring gains. U.S. gold futures were 1.53% higher at $2,069.30 an ounce.\n",
            "(Reporting by Sinéad Carew, Caroline Valetkevitch, Saqib Iqbal Ahmed, Gertrude Chavez-Dreyfuss in New York, Amanda Cooper in London and Stella Qiu; Editing by Alexander Smith, Kirsten Donovan)\n"
          ]
        }
      ]
    },
    {
      "cell_type": "markdown",
      "source": [
        "Klassifiziere die Nachricht mit einem vortrainierten Modell mit der Huggingsface Bibliothek und PyTorch"
      ],
      "metadata": {
        "id": "_Qi8Hmbgq8Lo"
      }
    },
    {
      "cell_type": "code",
      "source": [
        "from transformers import AutoModelForSequenceClassification, AutoTokenizer\n",
        "import torch\n",
        "\n",
        "model_name = \"mrm8488/distilroberta-finetuned-financial-news-sentiment-analysis\"\n",
        "\n",
        "tokenizer = AutoTokenizer.from_pretrained(model_name)\n",
        "model = AutoModelForSequenceClassification.from_pretrained(model_name)\n",
        "\n",
        "# Dein Text\n",
        "text = \"\"\n",
        "\n",
        "for p in soup.find_all('p'):\n",
        "  text = text + p.text + \"\\n\"\n",
        "# Tokenisiere den Text\n",
        "inputs = tokenizer(text, return_tensors=\"pt\", padding=True, truncation=True, max_length=512)\n",
        "\n",
        "# Wende das Modell an\n",
        "with torch.no_grad():\n",
        "    outputs = model(**inputs)\n",
        "\n",
        "# Hole die Modellvorhersagen\n",
        "predictions = outputs.logits\n",
        "\n",
        "# Konvertiere Vorhersagen in Wahrscheinlichkeiten und hole das maximale\n",
        "predictions = torch.nn.functional.softmax(predictions, dim=1)\n",
        "predicted_class = torch.argmax(predictions).item()\n",
        "\n",
        "# Zuordnung der Klassen\n",
        "classes = [\"bearish\", \"neutral\", \"bullish\"]\n",
        "\n",
        "# Ergebnis\n",
        "print(f\"Sentiment: {classes[predicted_class]}\")\n"
      ],
      "metadata": {
        "colab": {
          "base_uri": "https://localhost:8080/"
        },
        "id": "Fd0hdSkCq7nr",
        "outputId": "ceb9b551-f351-42d0-d9d4-ef1056c81df0"
      },
      "execution_count": null,
      "outputs": [
        {
          "output_type": "stream",
          "name": "stdout",
          "text": [
            "Sentiment: bullish\n"
          ]
        }
      ]
    }
  ]
}