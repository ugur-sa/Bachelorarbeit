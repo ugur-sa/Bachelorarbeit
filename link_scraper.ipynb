{
 "cells": [
  {
   "cell_type": "code",
   "execution_count": 1,
   "metadata": {},
   "outputs": [],
   "source": [
    "from selenium import webdriver\n",
    "from selenium.webdriver.common.keys import Keys\n",
    "from selenium.webdriver.common.by import By\n",
    "from bs4 import BeautifulSoup\n",
    "import time"
   ]
  },
  {
   "cell_type": "code",
   "execution_count": 2,
   "metadata": {},
   "outputs": [],
   "source": [
    "# Initialisiere den WebDriver\n",
    "\n",
    "driver = webdriver.Chrome()\n",
    "\n",
    "# Navigiere zur Webseite\n",
    "driver.get(\"https://finance.yahoo.com/news\")\n",
    "\n",
    "scroll_button = driver.find_element(By.ID, \"scroll-down-btn\")\n",
    "scroll_button.click()\n",
    "cookie_button = driver.find_element(By.CLASS_NAME, \"reject-all\")\n",
    "cookie_button.click()\n",
    "\n",
    "html_element = driver.find_element(By.TAG_NAME, 'html')\n",
    "\n",
    "# Drücke 10 Mal die \"End\"-Taste, um ans Ende der Seite zu scrollen\n",
    "for _ in range(3):\n",
    "    html_element.send_keys(Keys.END)\n",
    "    time.sleep(1)\n",
    "\n",
    "# Hole das HTML der Seite\n",
    "html = driver.page_source\n",
    "\n",
    "# Schließe den Browser\n",
    "driver.quit()"
   ]
  },
  {
   "cell_type": "code",
   "execution_count": 11,
   "metadata": {},
   "outputs": [
    {
     "name": "stdout",
     "output_type": "stream",
     "text": [
      "<li class=\"js-stream-content Pos(r)\">\n",
      " <div class=\"Py(14px) Pos(r)\" data-test-locator=\"mega\">\n",
      "  <div class=\"Cf\">\n",
      "   <div class=\"Fl(start) Pos(r) Mt(2px) W(26.5%) Maw(220px)\">\n",
      "    <div class=\"H(0) Ov(h) Bdrs(2px)\" style=\"padding-bottom:56%\">\n",
      "     <img alt=\"\" class=\"W(100%) Trsdu(0s)! Bdrs(2px)\" data-status=\"LOADED\" src=\"https://s.yimg.com/uu/api/res/1.2/XfzgtREvQaC.InZiwJoH.A--~B/Zmk9c3RyaW07aD0xMjM7cT04MDt3PTIyMDthcHBpZD15dGFjaHlvbg--/https://s.yimg.com/os/creatr-uploaded-images/2023-10/34746920-634d-11ee-9fff-9dffbe8aadbc.cf.webp\" srcset=\"https://s.yimg.com/uu/api/res/1.2/XfzgtREvQaC.InZiwJoH.A--~B/Zmk9c3RyaW07aD0xMjM7cT04MDt3PTIyMDthcHBpZD15dGFjaHlvbg--/https://s.yimg.com/os/creatr-uploaded-images/2023-10/34746920-634d-11ee-9fff-9dffbe8aadbc.cf.webp 1x,https://s.yimg.com/uu/api/res/1.2/xuTeHfI1jvyJGCn1R228nA--~B/Zmk9c3RyaW07aD0yNDY7cT04MDt3PTQ0MDthcHBpZD15dGFjaHlvbg--/https://s.yimg.com/os/creatr-uploaded-images/2023-10/34746920-634d-11ee-9fff-9dffbe8aadbc.cf.webp 2x\"/>\n",
      "    </div>\n",
      "   </div>\n",
      "   <div class=\"Ov(h) Pend(44px) Pstart(25px)\">\n",
      "    <div class=\"Fz(12px) Fw(b) Tt(c) D(ib) Mb(6px) C($c-fuji-blue-1-a) Mend(9px) Mt(-2px)\" data-test-locator=\"catlabel\">\n",
      "     Business\n",
      "    </div>\n",
      "    <div class=\"C(#959595) Fz(11px) D(ib) Mb(6px)\">\n",
      "     <span>\n",
      "      Yahoo Finance\n",
      "     </span>\n",
      "     <i aria-hidden=\"true\" class=\"Mx(4px)\">\n",
      "      •\n",
      "     </i>\n",
      "     <span>\n",
      "      4 minutes ago\n",
      "     </span>\n",
      "    </div>\n",
      "    <h3 class=\"Mb(5px)\">\n",
      "     <a class=\"js-content-viewer Fw(b) Fz(18px) Lh(23px) LineClamp(2,46px) Fz(17px)--sm1024 Lh(19px)--sm1024 LineClamp(2,38px)--sm1024 mega-item-header-link Td(n) C(#0078ff):h C(#000) not-isInStreamVideoEnabled wafer-destroyed\" data-uuid=\"71a086a7-3f1e-4e36-8d4b-e2f0c9c59251\" data-wf-caas-prefetch=\"1\" data-wf-caas-uuid=\"71a086a7-3f1e-4e36-8d4b-e2f0c9c59251\" href=\"/news/stock-market-news-today-tech-gains-dow-lags-on-heels-of-slowing-labor-market-demand-210119483.html\">\n",
      "      <u class=\"StretchedBox\">\n",
      "      </u>\n",
      "      Stock market news today: Tech gains, Dow lags on heels of slowing labor market demand\n",
      "     </a>\n",
      "    </h3>\n",
      "    <p class=\"Fz(14px) Lh(19px) Fz(13px)--sm1024 Lh(17px)--sm1024 LineClamp(2,38px) LineClamp(2,34px)--sm1024 M(0)\">\n",
      "     Investors are looking to labor market readings as they decide whether to put hopes for an interest rate cut on ice.\n",
      "    </p>\n",
      "   </div>\n",
      "   <div class=\"Pos(a) T(14px) End(0) W(36px) Ta(c) NoJs_D(n) Mt(20px)\">\n",
      "    <div class=\"share-menu-wrapper D(ib) Pos(r)\" style=\"-webkit-tap-highlight-color:transparent\">\n",
      "     <div style=\"margin:-10px\">\n",
      "      <button aria-describedby=\"shareMenuTooltip\" aria-expanded=\"false\" aria-label=\"Social media share article menu\" class=\"share-open-button O(0):f Bd(0) react-button\" style=\"padding:10px\">\n",
      "       <svg class=\"M(a) Cur(p)\" data-icon=\"share\" height=\"20\" style=\"fill:#959595;stroke:#959595;stroke-width:0;vertical-align:bottom\" viewbox=\"0 0 48 48\" width=\"20\">\n",
      "        <path d=\"M41.574 18.795c-1.104 0-2 .896-2 2v22h-28v-22c0-1.104-.896-2-2-2s-2 .896-2 2v24c0 1.105.896 2 2 2h32c1.104 0 2-.895 2-2v-24c0-1.104-.894-2-2-2zM21.044 13.652l2.53-2.742v22.385h4V10.91l2.53 2.742c.395.428.932.643 1.47.643.484 0 .972-.174 1.355-.53.81-.75.86-2.015.112-2.825l-7.47-8.092-7.47 8.092c-.75.81-.698 2.076.113 2.826.813.748 2.078.697 2.83-.114z\">\n",
      "        </path>\n",
      "       </svg>\n",
      "      </button>\n",
      "     </div>\n",
      "    </div>\n",
      "   </div>\n",
      "  </div>\n",
      " </div>\n",
      "</li>\n",
      "\n"
     ]
    }
   ],
   "source": [
    "# Verwende BeautifulSoup, um das HTML zu parsen\n",
    "soup = BeautifulSoup(html, 'html.parser')\n",
    "\n",
    "\n",
    "# Finde alle Artikel\n",
    "articles = soup.find_all('li', class_='js-stream-content Pos(r)')\n",
    "\n",
    "# Check if the li has a div with content \"Business\" and only keep those\n",
    "\n",
    "business_articles = []\n",
    "\n",
    "for article in articles:\n",
    "    bsn = article.find_all('div', string='Business')\n",
    "    if bsn:\n",
    "        business_articles.append(article)\n"
   ]
  }
 ],
 "metadata": {
  "kernelspec": {
   "display_name": "Python 3",
   "language": "python",
   "name": "python3"
  },
  "language_info": {
   "codemirror_mode": {
    "name": "ipython",
    "version": 3
   },
   "file_extension": ".py",
   "mimetype": "text/x-python",
   "name": "python",
   "nbconvert_exporter": "python",
   "pygments_lexer": "ipython3",
   "version": "3.9.0"
  }
 },
 "nbformat": 4,
 "nbformat_minor": 2
}
