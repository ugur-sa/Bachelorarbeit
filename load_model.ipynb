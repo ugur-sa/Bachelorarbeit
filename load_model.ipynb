{
 "cells": [
  {
   "cell_type": "code",
   "execution_count": 26,
   "metadata": {},
   "outputs": [
    {
     "name": "stdout",
     "output_type": "stream",
     "text": [
      "Predicted label: negative\n"
     ]
    }
   ],
   "source": [
    "from transformers import BertConfig, BertForSequenceClassification, AutoTokenizer\n",
    "import torch\n",
    "\n",
    "# Load the configuration\n",
    "config_path = 'E:/Users/UgurS/Desktop/2.Desktop/7. Semester/Bachelorarbeit/Bachelorarbeit/financialbert/results'  # Replace with your config directory\n",
    "config = BertConfig.from_pretrained(config_path, output_hidden_states=False)\n",
    "\n",
    "model_name = 'ahmedrachid/FinancialBERT'\n",
    "tokenizer = AutoTokenizer.from_pretrained(model_name)\n",
    "\n",
    "# Create the model\n",
    "model = BertForSequenceClassification(config)\n",
    "\n",
    "# Load the weights\n",
    "model_weights = 'E:/Users/UgurS/Desktop/2.Desktop/7. Semester/Bachelorarbeit/Bachelorarbeit/financialbert/results/pytorch_model.bin'  # Replace with your model weights file\n",
    "model.load_state_dict(torch.load(model_weights))\n",
    "\n",
    "# Set the model to evaluation mode\n",
    "model.eval()\n",
    "\n",
    "text_to_classify = \"\"\"The California-bound Boeing 737-9 Max aircraft operated by Alaska Airlines had to make an emergency landing on Friday as it climbed out of Portland, Oregon.\"\"\"\n",
    "# Tokenize the input text and convert to tensors\n",
    "inputs = tokenizer(text_to_classify, padding=True, truncation=True, max_length=512, return_tensors=\"pt\")\n",
    "\n",
    "# Move the model to the correct device (GPU or CPU)\n",
    "device = torch.device(\"cuda\" if torch.cuda.is_available() else \"cpu\")\n",
    "model.to(device)\n",
    "inputs = {k: v.to(device) for k, v in inputs.items()}\n",
    "\n",
    "# Get predictions\n",
    "with torch.no_grad():\n",
    "    outputs = model(**inputs)\n",
    "    predictions = torch.nn.functional.softmax(outputs.logits, dim=-1)\n",
    "\n",
    "# Move predictions to CPU and convert to numpy\n",
    "predictions = predictions.detach().cpu().numpy()\n",
    "\n",
    "# Get the predicted class index\n",
    "predicted_class_index = predictions.argmax(axis=-1)\n",
    "\n",
    "# Map the predicted class index to the actual label\n",
    "# This step depends on how you've set up your labels. Assuming you have a label mapping like below.\n",
    "label_map = {0: 'positive', 1: 'neutral', 2: 'negative'}\n",
    "predicted_label = label_map[predicted_class_index[0]]\n",
    "print(f\"Predicted label: {predicted_label}\")\n"
   ]
  },
  {
   "cell_type": "code",
   "execution_count": 2,
   "metadata": {},
   "outputs": [
    {
     "name": "stdout",
     "output_type": "stream",
     "text": [
      "Train data percentage: 72\n",
      "Test data percentage: 15\n",
      "Validation data percentage: 13\n"
     ]
    }
   ],
   "source": [
    "import sqlite3\n",
    "from sklearn.model_selection import train_test_split\n",
    "\n",
    "# Connect to the database\n",
    "conn = sqlite3.connect('data/sentiment.db')\n",
    "cursor = conn.cursor()\n",
    "\n",
    "# Fetch the data from the \"sentences\" table\n",
    "cursor.execute(\"SELECT sentence_text, final_sentiment FROM sentences WHERE final_sentiment != 'manual'\")\n",
    "data = cursor.fetchall()\n",
    "\n",
    "# Close the database connection\n",
    "conn.close()\n",
    "\n",
    "# Convert data to a dictionary with the keys \"text\" and \"label\"\n",
    "data = [{\"text\": text, \"label\": label} for text, label in data]\n",
    "# Convert bullish to 0, neutral to 1, and bearish to 2\n",
    "data = [{\"text\": row[\"text\"], \"label\": 0 if row[\"label\"] == \"bullish\" else 1 if row[\"label\"] == \"neutral\" else 2} for row in data]\n",
    "\n",
    "# Split the data into train, test, and validation sets\n",
    "train_data, test_data = train_test_split(data, test_size=0.15, random_state=42)\n",
    "train_data, val_data = train_test_split(train_data, test_size=0.15, random_state=42)\n",
    "\n",
    "# Print the sizes of the train, test, and validation sets\n",
    "print(\"Train data percentage:\", (round((len(train_data) / len(data)) * 100)))\n",
    "print(\"Test data percentage:\", (round((len(test_data) / len(data)) * 100)))\n",
    "print(\"Validation data percentage:\", (round((len(val_data) / len(data)) * 100)))"
   ]
  },
  {
   "cell_type": "code",
   "execution_count": 3,
   "metadata": {},
   "outputs": [],
   "source": [
    "from transformers import AutoTokenizer\n",
    "import torch\n",
    "\n",
    "# Lade den Tokenizer\n",
    "model_name = 'ahmedrachid/FinancialBERT'\n",
    "tokenizer = AutoTokenizer.from_pretrained(model_name)\n",
    "\n",
    "# Funktion, um die Daten zu tokenisieren\n",
    "def tokenize_data(data):\n",
    "    tokenized_data = []\n",
    "    for item in data:\n",
    "        # Tokenisiere den Text und füge das Ergebnis dem Array hinzu\n",
    "        encoding = tokenizer(\n",
    "            item['text'],\n",
    "            padding='max_length',  # Pad kürzere Sätze\n",
    "            truncation=True,       # Schneide längere Sätze ab\n",
    "            max_length=512,        # Maximale Länge auf BERT's limit setzen\n",
    "            return_tensors='pt'    # Rückgabe als PyTorch Tensoren\n",
    "        )\n",
    "        tokenized_data.append({'input_ids': encoding['input_ids'].squeeze(0), 'attention_mask': encoding['attention_mask'].squeeze(0), 'label': item['label']})\n",
    "    return tokenized_data\n",
    "\n",
    "# Tokenisiere Trainings-, Test- und Validierungsdaten\n",
    "train_data_tokenized = tokenize_data(train_data)\n",
    "val_data_tokenized = tokenize_data(val_data)\n",
    "test_data_tokenized = tokenize_data(test_data)"
   ]
  },
  {
   "cell_type": "code",
   "execution_count": 18,
   "metadata": {},
   "outputs": [
    {
     "data": {
      "text/plain": [
       "CommitInfo(commit_url='https://huggingface.co/ugursa/FinancialBERT-Yahoo-Finance-Sentiment-Analysis/commit/081ac59a651cc3ac0b4ec99df61f0ffb7187f017', commit_message='Upload tokenizer', commit_description='', oid='081ac59a651cc3ac0b4ec99df61f0ffb7187f017', pr_url=None, pr_revision=None, pr_num=None)"
      ]
     },
     "execution_count": 18,
     "metadata": {},
     "output_type": "execute_result"
    }
   ],
   "source": [
    "model.push_to_hub(\"FinancialBERT-Yahoo-Finance-Sentiment-Analysis\")\n",
    "tokenizer.push_to_hub(\"FinancialBERT-Yahoo-Finance-Sentiment-Analysis\")"
   ]
  },
  {
   "cell_type": "code",
   "execution_count": 4,
   "metadata": {},
   "outputs": [],
   "source": [
    "from torch.utils.data import Dataset\n",
    "\n",
    "# Erstelle eine benutzerdefinierte Dataset-Klasse\n",
    "class SentimentDataset(Dataset):\n",
    "    def __init__(self, tokenized_data):\n",
    "        self.tokenized_data = tokenized_data\n",
    "\n",
    "    def __len__(self):\n",
    "        return len(self.tokenized_data)\n",
    "\n",
    "    def __getitem__(self, idx):\n",
    "        return self.tokenized_data[idx]\n",
    "\n",
    "# Erstelle PyTorch Datasets\n",
    "train_dataset = SentimentDataset(train_data_tokenized)\n",
    "val_dataset = SentimentDataset(val_data_tokenized)\n",
    "test_dataset = SentimentDataset(test_data_tokenized)"
   ]
  },
  {
   "cell_type": "code",
   "execution_count": 5,
   "metadata": {},
   "outputs": [],
   "source": [
    "from torch.utils.data import DataLoader\n",
    "\n",
    "batch_size = 16\n",
    "\n",
    "# Erstelle DataLoaders\n",
    "train_loader = DataLoader(train_dataset, batch_size=batch_size, shuffle=True)\n",
    "val_loader = DataLoader(val_dataset, batch_size=batch_size, shuffle=False)\n",
    "test_loader = DataLoader(test_dataset, batch_size=batch_size, shuffle=False)"
   ]
  },
  {
   "cell_type": "code",
   "execution_count": 7,
   "metadata": {},
   "outputs": [
    {
     "name": "stdout",
     "output_type": "stream",
     "text": [
      "Test Loss:  0.08062427395736758\n",
      "Accuracy: {'accuracy': 0.9714912280701754}\n",
      "F1-Score: {'f1': 0.9714904061272113}\n",
      "Precision: {'precision': 0.9715290381499601}\n",
      "Recall: {'recall': 0.9714912280701754}\n"
     ]
    }
   ],
   "source": [
    "import evaluate\n",
    "\n",
    "# Überprüfen, ob CUDA verfügbar ist und eine GPU zuweisen\n",
    "device = torch.device(\"cuda\" if torch.cuda.is_available() else \"cpu\")\n",
    "model.to(device)  # Modell auf die GPU verschieben\n",
    "\n",
    "model.eval()  # Schalte das Modell in den Evaluierungsmodus\n",
    "\n",
    "total_eval_accuracy = 0\n",
    "total_eval_loss = 0\n",
    "\n",
    "# Lade die Metriken\n",
    "accuracy_metric = evaluate.load(\"accuracy\")\n",
    "f1_metric = evaluate.load(\"f1\")\n",
    "precision_metric = evaluate.load(\"precision\")\n",
    "recall_metric = evaluate.load(\"recall\")\n",
    "\n",
    "for batch in val_loader:  # Verwende den Test-DataLoader\n",
    "    # Übertrage die Batch-Daten auf das richtige Device (z.B. GPU)\n",
    "    input_ids = batch['input_ids'].to(device)\n",
    "    attention_mask = batch['attention_mask'].to(device)\n",
    "    labels = batch['label'].to(device)\n",
    "\n",
    "    with torch.no_grad():  # Deaktiviere die Gradientenberechnung für die Evaluation\n",
    "        outputs = model(input_ids, attention_mask=attention_mask, labels=labels)\n",
    "\n",
    "    # Konvertiere die Ausgaben des Modells in Vorhersagen\n",
    "    logits = outputs.logits if hasattr(outputs, \"logits\") else outputs[0]\n",
    "    predictions = torch.argmax(logits, dim=-1)\n",
    "\n",
    "    # Aktualisiere die Metriken mit den Vorhersagen und den wahren Labels\n",
    "    accuracy_metric.add_batch(predictions=predictions, references=labels)\n",
    "    f1_metric.add_batch(predictions=predictions, references=labels)\n",
    "    precision_metric.add_batch(predictions=predictions, references=labels)\n",
    "    recall_metric.add_batch(predictions=predictions, references=labels)\n",
    "    \n",
    "    # Berechne den Verlust und akkumuliere den Gesamtverlust.\n",
    "    loss = outputs.loss\n",
    "    total_eval_loss += loss.item()\n",
    "\n",
    "    # Hier kannst du zusätzliche Metriken hinzufügen, wie z.B. die Genauigkeit.\n",
    "\n",
    "# Berechne die durchschnittliche Verlust über alle Testbatches\n",
    "avg_test_loss = total_eval_loss / len(test_loader)\n",
    "print(\"Test Loss: \", avg_test_loss)\n",
    "\n",
    "# Berechne die finale Metrik\n",
    "final_accuracy = accuracy_metric.compute()\n",
    "final_f1 = f1_metric.compute(average=\"weighted\")  # oder andere Durchschnittswerte je nach Bedarf\n",
    "final_precision = precision_metric.compute(average=\"weighted\")\n",
    "final_recall = recall_metric.compute(average=\"weighted\")\n",
    "\n",
    "print(\"Accuracy:\", final_accuracy)\n",
    "print(\"F1-Score:\", final_f1)\n",
    "print(\"Precision:\", final_precision)\n",
    "print(\"Recall:\", final_recall)"
   ]
  },
  {
   "cell_type": "code",
   "execution_count": 10,
   "metadata": {},
   "outputs": [],
   "source": [
    "from sklearn.metrics import confusion_matrix\n",
    "import numpy as np\n",
    "\n",
    "true_labels_list = []\n",
    "predictions_list = []\n",
    "\n",
    "# Angenommen, dies ist deine Validierungsschleife oder ein separater Evaluierungsprozess\n",
    "for batch in test_loader:  # oder test_loader\n",
    "    inputs, attention_mask, labels = batch['input_ids'], batch['attention_mask'], batch['label']\n",
    "    inputs, attention_mask, labels = inputs.to(device), attention_mask.to(device), labels.to(device)  # Stelle sicher, dass sie auf dem richtigen Gerät sind\n",
    "\n",
    "    with torch.no_grad():\n",
    "        outputs = model(inputs, attention_mask=attention_mask, labels=labels)\n",
    "        # Hier bekommen wir die Logits (die Rohausgabe des Modells vor der Anwendung der Aktivierungsfunktion).\n",
    "        logits = outputs.logits  # oder outputs[0], abhängig von deinem Modell\n",
    "\n",
    "        # Bestimme die Klasse mit der höchsten Score für jede Eingabe in der Batch\n",
    "        _, predictions = torch.max(logits, dim=1)\n",
    "\n",
    "    # Sammle die wahren Labels und die Vorhersagen\n",
    "    true_labels_list.extend(labels.cpu().numpy())\n",
    "    predictions_list.extend(predictions.cpu().numpy())\n",
    "\n",
    "# Nachdem du alle Vorhersagen gesammelt hast, konvertiere Listen in Arrays\n",
    "true_labels = np.array(true_labels_list)\n",
    "predictions = np.array(predictions_list)\n"
   ]
  },
  {
   "cell_type": "code",
   "execution_count": 11,
   "metadata": {},
   "outputs": [
    {
     "data": {
      "image/png": "[encoded data removed]",
      "text/plain": [
       "<Figure size 1000x700 with 2 Axes>"
      ]
     },
     "metadata": {},
     "output_type": "display_data"
    }
   ],
   "source": [
    "import matplotlib.pyplot as plt\n",
    "import seaborn as sns\n",
    "import numpy as np\n",
    "\n",
    "# Berechne die Konfusionsmatrix\n",
    "cm = confusion_matrix(true_labels, predictions)\n",
    "\n",
    "# Umdrehen der Matrix, so dass die Klasse 0 unten links ist\n",
    "cm_flipped = np.flipud(cm)\n",
    "\n",
    "# Visualisiere die umgedrehte Konfusionsmatrix\n",
    "plt.figure(figsize=(10, 7))\n",
    "sns.heatmap(cm_flipped, annot=True, fmt=\"d\", cmap='Blues')\n",
    "plt.title(\"Confusion Matrix\")\n",
    "plt.xlabel('Predicted Label')\n",
    "plt.ylabel('True Label')\n",
    "\n",
    "# Korrigiere die y-Achsen-Beschriftungen\n",
    "# plt.yticks() nimmt zwei Argumente: Die Positionen und die Labels der Ticks\n",
    "# Wir stellen die Positionen so ein, dass sie auf die Mitte der Kästen zeigen\n",
    "plt.yticks(np.arange(0.5, len(cm)), labels=np.arange(len(cm))[::-1])\n",
    "\n",
    "plt.show()"
   ]
  },
  {
   "cell_type": "code",
   "execution_count": null,
   "metadata": {},
   "outputs": [],
   "source": [
    "import matplotlib.pyplot as plt\n",
    "import re\n",
    "\n",
    "# Step 1: Read the file and extract learning rates and epochs.\n",
    "learning_rates = []\n",
    "epochs = []\n",
    "losses = []\n",
    "\n",
    "with open('TrainingData.txt', 'r') as file:\n",
    "    for line in file:\n",
    "        if 'learning_rate' in line and 'epoch' in line:\n",
    "            # Extracting learning rate and epoch using regular expression\n",
    "            lr_found = re.search(\"'learning_rate': (.*?),\", line)\n",
    "            loss_found = re.search(\"'loss': (.*?),\", line)\n",
    "            epoch_found = re.search(\"'epoch': (.*?)}\", line)\n",
    "\n",
    "            if lr_found and epoch_found:\n",
    "                learning_rates.append(float(lr_found.group(1)))\n",
    "                losses.append(float(loss_found.group(1)))\n",
    "                epochs.append(float(epoch_found.group(1)))\n",
    "\n",
    "plt.figure(figsize=(10, 6))\n",
    "plt.plot(epochs, learning_rates)\n",
    "plt.title('Learning Rate over Epochs')\n",
    "plt.xlabel('Epoch')\n",
    "plt.ylabel('Learning Rate')\n",
    "plt.grid(True)\n",
    "plt.show()\n",
    "\n",
    "# Step 3: Plot the data using matplotlib.\n",
    "plt.figure(figsize=(10, 6))\n",
    "plt.plot(epochs, losses)\n",
    "plt.title('Loss over Epochs')\n",
    "plt.xlabel('Epoch')\n",
    "plt.ylabel('Loss')\n",
    "plt.grid(True)\n",
    "plt.show()\n"
   ]
  }
 ],
 "metadata": {
  "kernelspec": {
   "display_name": "Python 3",
   "language": "python",
   "name": "python3"
  },
  "language_info": {
   "codemirror_mode": {
    "name": "ipython",
    "version": 3
   },
   "file_extension": ".py",
   "mimetype": "text/x-python",
   "name": "python",
   "nbconvert_exporter": "python",
   "pygments_lexer": "ipython3",
   "version": "3.9.0"
  }
 },
 "nbformat": 4,
 "nbformat_minor": 2
}
