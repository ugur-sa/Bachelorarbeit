{
 "cells": [
  {
   "cell_type": "markdown",
   "metadata": {},
   "source": [
    "Abhängigkeiten"
   ]
  },
  {
   "cell_type": "code",
   "execution_count": null,
   "metadata": {},
   "outputs": [],
   "source": [
    "%pip install torch\n",
    "%pip install transformers"
   ]
  },
  {
   "cell_type": "markdown",
   "metadata": {},
   "source": [
    "Datenvorbereitung"
   ]
  },
  {
   "cell_type": "code",
   "execution_count": 1,
   "metadata": {},
   "outputs": [
    {
     "name": "stdout",
     "output_type": "stream",
     "text": [
      "Train data percentage: 72\n",
      "Test data percentage: 15\n",
      "Validation data percentage: 13\n"
     ]
    }
   ],
   "source": [
    "import sqlite3\n",
    "from sklearn.model_selection import train_test_split\n",
    "\n",
    "# Connect to the database\n",
    "conn = sqlite3.connect('data/sentiment.db')\n",
    "cursor = conn.cursor()\n",
    "\n",
    "# Fetch the data from the \"sentences\" table\n",
    "cursor.execute(\"SELECT sentence_text, final_sentiment FROM sentences WHERE final_sentiment != 'manual'\")\n",
    "data = cursor.fetchall()\n",
    "\n",
    "# Close the database connection\n",
    "conn.close()\n",
    "\n",
    "# Convert data to a dictionary with the keys \"text\" and \"label\"\n",
    "data = [{\"text\": text, \"label\": label} for text, label in data]\n",
    "# Convert bullish to 0, neutral to 1, and bearish to 2\n",
    "data = [{\"text\": row[\"text\"], \"label\": 0 if row[\"label\"] == \"bullish\" else 1 if row[\"label\"] == \"neutral\" else 2} for row in data]\n",
    "\n",
    "# Split the data into train, test, and validation sets\n",
    "train_data, test_data = train_test_split(data, test_size=0.15, random_state=42)\n",
    "train_data, val_data = train_test_split(train_data, test_size=0.15, random_state=42)\n",
    "\n",
    "# Print the sizes of the train, test, and validation sets\n",
    "print(\"Train data percentage:\", (round((len(train_data) / len(data)) * 100)))\n",
    "print(\"Test data percentage:\", (round((len(test_data) / len(data)) * 100)))\n",
    "print(\"Validation data percentage:\", (round((len(val_data) / len(data)) * 100)))"
   ]
  },
  {
   "cell_type": "markdown",
   "metadata": {},
   "source": [
    "Tokenization"
   ]
  },
  {
   "cell_type": "code",
   "execution_count": 2,
   "metadata": {},
   "outputs": [],
   "source": [
    "from transformers import AutoTokenizer\n",
    "import torch\n",
    "\n",
    "# Lade den Tokenizer\n",
    "model_name = 'ahmedrachid/FinancialBERT'\n",
    "tokenizer = AutoTokenizer.from_pretrained(model_name)\n",
    "\n",
    "# Funktion, um die Daten zu tokenisieren\n",
    "def tokenize_data(data):\n",
    "    tokenized_data = []\n",
    "    for item in data:\n",
    "        # Tokenisiere den Text und füge das Ergebnis dem Array hinzu\n",
    "        encoding = tokenizer(\n",
    "            item['text'],\n",
    "            padding='max_length',  # Pad kürzere Sätze\n",
    "            truncation=True,       # Schneide längere Sätze ab\n",
    "            max_length=512,        # Maximale Länge auf BERT's limit setzen\n",
    "            return_tensors='pt'    # Rückgabe als PyTorch Tensoren\n",
    "        )\n",
    "        tokenized_data.append({'input_ids': encoding['input_ids'].squeeze(0), 'attention_mask': encoding['attention_mask'].squeeze(0), 'label': item['label']})\n",
    "    return tokenized_data\n",
    "\n",
    "# Tokenisiere Trainings-, Test- und Validierungsdaten\n",
    "train_data_tokenized = tokenize_data(train_data)\n",
    "val_data_tokenized = tokenize_data(val_data)\n",
    "test_data_tokenized = tokenize_data(test_data)"
   ]
  },
  {
   "cell_type": "markdown",
   "metadata": {},
   "source": [
    "PyTorch Dataset"
   ]
  },
  {
   "cell_type": "code",
   "execution_count": 3,
   "metadata": {},
   "outputs": [],
   "source": [
    "from torch.utils.data import Dataset\n",
    "\n",
    "# Erstelle eine benutzerdefinierte Dataset-Klasse\n",
    "class SentimentDataset(Dataset):\n",
    "    def __init__(self, tokenized_data):\n",
    "        self.tokenized_data = tokenized_data\n",
    "\n",
    "    def __len__(self):\n",
    "        return len(self.tokenized_data)\n",
    "\n",
    "    def __getitem__(self, idx):\n",
    "        return self.tokenized_data[idx]\n",
    "\n",
    "# Erstelle PyTorch Datasets\n",
    "train_dataset = SentimentDataset(train_data_tokenized)\n",
    "val_dataset = SentimentDataset(val_data_tokenized)\n",
    "test_dataset = SentimentDataset(test_data_tokenized)"
   ]
  },
  {
   "cell_type": "markdown",
   "metadata": {},
   "source": [
    "DataLoader"
   ]
  },
  {
   "cell_type": "code",
   "execution_count": 4,
   "metadata": {},
   "outputs": [],
   "source": [
    "from torch.utils.data import DataLoader\n",
    "\n",
    "# Definiere Batch-Größe\n",
    "batch_size = 16\n",
    "\n",
    "# Erstelle DataLoaders\n",
    "train_loader = DataLoader(train_dataset, batch_size=batch_size, shuffle=True)\n",
    "val_loader = DataLoader(val_dataset, batch_size=batch_size, shuffle=False)\n",
    "test_loader = DataLoader(test_dataset, batch_size=batch_size, shuffle=False)"
   ]
  },
  {
   "cell_type": "markdown",
   "metadata": {},
   "source": [
    "Training"
   ]
  },
  {
   "cell_type": "code",
   "execution_count": null,
   "metadata": {},
   "outputs": [],
   "source": [
    "from transformers import BertForSequenceClassification, get_linear_schedule_with_warmup\n",
    "import torch.optim as optim\n",
    "import json\n",
    "from sklearn.metrics import f1_score\n",
    "from tqdm.auto import tqdm\n",
    "import datetime\n",
    "\n",
    "metrics = {\n",
    "    'batch': [],\n",
    "    'train_loss': [],\n",
    "    'val_loss': [],\n",
    "    'f1': [],\n",
    "    'lr': []\n",
    "}\n",
    "\n",
    "# Funktion zum Aktualisieren der Metriken nach jeder Epoche\n",
    "def update_metrics(batch, train_loss, val_loss, f1, lr):\n",
    "    metrics['batch'].append(batch)\n",
    "    metrics['train_loss'].append(train_loss)\n",
    "    metrics['val_loss'].append(val_loss)\n",
    "    metrics['f1'].append(f1)\n",
    "    metrics['lr'].append(lr)\n",
    "\n",
    "# Füge diese Funktion hinzu, um die Validierungsleistung zu bewerten\n",
    "def evaluate(model, val_loader, device):\n",
    "    model.eval()  # Setze das Modell in den Evaluierungsmodus\n",
    "    total_eval_loss = 0\n",
    "\n",
    "    # Listen für wahre Labels und Vorhersagen\n",
    "    true_labels = []\n",
    "    predictions = []\n",
    "\n",
    "    for batch in val_loader:\n",
    "        # Übertrage die Batch-Daten auf das richtige Device (z.B. GPU)\n",
    "        input_ids = batch['input_ids'].to(device)\n",
    "        attention_mask = batch['attention_mask'].to(device)\n",
    "        labels = batch['label'].to(device)\n",
    "\n",
    "        with torch.no_grad():  # Deaktiviere die Gradientenberechnung für die Evaluation\n",
    "            outputs = model(input_ids, attention_mask=attention_mask, labels=labels)\n",
    "\n",
    "        loss = outputs.loss\n",
    "        total_eval_loss += loss.item()\n",
    "\n",
    "        # Berechne Vorhersagen\n",
    "        logits = outputs.logits\n",
    "        preds = torch.argmax(logits, dim=-1)\n",
    "\n",
    "        # Sammle wahre Labels und Vorhersagen für Metrikberechnung\n",
    "        predictions.extend(preds.cpu().numpy())\n",
    "        true_labels.extend(labels.cpu().numpy())\n",
    "\n",
    "    f1 = f1_score(true_labels, predictions, average='weighted')\n",
    "    return total_eval_loss / len(val_loader), f1  # Gib Durchschnittsverlust und Metriken zurück\n",
    "\n",
    "id2label = {0: 'bullish', 1: 'neutral', 2: 'bearish'}\n",
    "label2id = {'bullish': 0, 'neutral': 1, 'bearish': 2}\n",
    "\n",
    "# Modell laden\n",
    "model = BertForSequenceClassification.from_pretrained('ahmedrachid/FinancialBERT', num_labels=3, id2label=id2label, label2id=label2id)  # Angenommene 3 Labels: bullish, neutral, bearish\n",
    "model.train()  # Setze das Modell in den Trainingsmodus\n",
    "\n",
    "# Überprüfen, ob CUDA verfügbar ist und eine GPU zuweisen\n",
    "device = torch.device(\"cuda\" if torch.cuda.is_available() else \"cpu\")\n",
    "model.to(device)  # Modell auf die GPU verschieben\n",
    "\n",
    "num_epochs = 3\n",
    "learning_rate = 2e-5\n",
    "current_time = datetime.datetime.now().strftime(\"%Y%m%d-%H%M%S\")  # Timestamp to avoid overwriting\n",
    "\n",
    "# Optimierer definieren\n",
    "# optimizer = optim.AdamW(model.parameters(), lr=learning_rate, weight_decay=0.01)\n",
    "optimizer = optim.AdamW(model.parameters(), lr=learning_rate)\n",
    "\n",
    "# Gesamte Trainingssteps und Warm-Up Steps definieren\n",
    "total_steps = len(train_loader) * num_epochs  # Gesamte Anzahl von Trainingsschritten\n",
    "warmup_steps = int(total_steps * 0.1)  # 10% der Trainingsschritte als Warm-Up\n",
    "\n",
    "# Scheduler initialisieren\n",
    "scheduler = get_linear_schedule_with_warmup(optimizer, num_warmup_steps=warmup_steps, num_training_steps=total_steps)\n",
    "\n",
    "logging_interval = 10 # Logge die Metriken alle 10 Batches\n",
    "\n",
    "# Create a directory name with hyperparameters\n",
    "dir_name = f\"model_epoch{num_epochs}_lr{learning_rate}_bs{batch_size}_{current_time}\"\n",
    "\n",
    "# Specify the base path where you want to save the models\n",
    "base_path = \"models/\"\n",
    "\n",
    "# Full path\n",
    "save_path = base_path + dir_name\n",
    "\n",
    "global_batch = 0\n",
    "\n",
    "for epoch in range(num_epochs):  # num_epochs ist die Anzahl der Epochen, die du trainieren möchtest\n",
    "    # Progress bar with tqdm\n",
    "    progress_bar = tqdm(enumerate(train_loader), desc=f\"Epoch {epoch + 1}/{num_epochs}\", total=len(train_loader), unit=\"batch\")\n",
    "    \n",
    "    for batch in train_loader:\n",
    "        # Extrahiere Daten aus dem Batch\n",
    "        input_ids = batch['input_ids'].to(device)\n",
    "        attention_mask = batch['attention_mask'].to(device)\n",
    "        labels = batch['label'].to(device)  # Stelle sicher, dass deine Labels als Tensor von numerischen Labels vorliegen\n",
    "\n",
    "        # Null the gradients\n",
    "        optimizer.zero_grad()\n",
    "\n",
    "        # Forward pass\n",
    "        outputs = model(input_ids, attention_mask=attention_mask, labels=labels)\n",
    "        loss = outputs.loss\n",
    "\n",
    "        # Backward pass\n",
    "        loss.backward()\n",
    "        optimizer.step()\n",
    "        # scheduler.step()\n",
    "        # optimizer.zero_grad()\n",
    "\n",
    "        progress_bar.set_postfix(loss=loss.item())\n",
    "        progress_bar.update()\n",
    "\n",
    "        global_batch += 1\n",
    "\n",
    "        if global_batch % logging_interval == 0 and global_batch != 0:\n",
    "            # Evaluate the model on the validation set\n",
    "            val_loss, f1 = evaluate(model, val_loader, device)\n",
    "            update_metrics(global_batch, loss.item(), val_loss, f1, learning_rate) # scheduler.get_last_lr()[0]\n",
    "            print(f\"Batch: {global_batch}, Learning Rate {learning_rate}, Validation loss: {val_loss:.3f}, Train loss: {loss.item():.3f}, F1: {f1:.3f}\")\n",
    "\n",
    "    # Save the model after each epoch\n",
    "    epoch_save_path = f\"{save_path}/epoch_{epoch+1}\"\n",
    "    model.save_pretrained(epoch_save_path)\n",
    "\n",
    "with open(f'{save_path}/metrics.json', 'w') as f:\n",
    "    json.dump(metrics, f)"
   ]
  },
  {
   "cell_type": "code",
   "execution_count": 14,
   "metadata": {},
   "outputs": [
    {
     "name": "stdout",
     "output_type": "stream",
     "text": [
      "Accuracy: {'accuracy': 0.9161118508655126}\n",
      "F1-Score: {'f1': 0.9161951705867702}\n"
     ]
    }
   ],
   "source": [
    "import evaluate\n",
    "\n",
    "# Lade die Metriken\n",
    "accuracy_metric = evaluate.load(\"accuracy\")\n",
    "f1_metric = evaluate.load(\"f1\")\n",
    "precision_metric = evaluate.load(\"precision\")\n",
    "recall_metric = evaluate.load(\"recall\")\n",
    "\n",
    "model.eval()  # Setze das Modell in den Evaluierungsmodus\n",
    "\n",
    "for batch in test_loader:  # oder test_loader\n",
    "    inputs, attention_mask, labels = batch['input_ids'], batch['attention_mask'].to(device), batch['label']\n",
    "    inputs, attention_mask, labels = inputs.to(device), attention_mask.to(device), labels.to(device)  # Stelle sicher, dass sie auf dem richtigen Gerät sind\n",
    "\n",
    "    with torch.no_grad():\n",
    "        outputs = model(inputs, attention_mask=attention_mask, labels=labels)\n",
    "\n",
    "    # Konvertiere die Ausgaben des Modells in Vorhersagen\n",
    "    logits = outputs.logits if hasattr(outputs, \"logits\") else outputs[0]\n",
    "    predictions = torch.argmax(logits, dim=-1)\n",
    "\n",
    "    # Aktualisiere die Metriken mit den Vorhersagen und den wahren Labels\n",
    "    accuracy_metric.add_batch(predictions=predictions, references=labels)\n",
    "    f1_metric.add_batch(predictions=predictions, references=labels)\n",
    "\n",
    "# Berechne die finale Metrik\n",
    "final_accuracy = accuracy_metric.compute()\n",
    "final_f1 = f1_metric.compute(average=\"weighted\")  # oder andere Durchschnittswerte je nach Bedarf\n",
    "\n",
    "print(\"Accuracy:\", final_accuracy)\n",
    "print(\"F1-Score:\", final_f1)"
   ]
  },
  {
   "cell_type": "markdown",
   "metadata": {},
   "source": [
    "Graphen Matplotlib"
   ]
  },
  {
   "cell_type": "code",
   "execution_count": null,
   "metadata": {},
   "outputs": [],
   "source": [
    "%pip install matplotlib"
   ]
  },
  {
   "cell_type": "code",
   "execution_count": 31,
   "metadata": {},
   "outputs": [
    {
     "data": {
      "image/png": "[encoded data removed]",
      "text/plain": [
       "<Figure size 1000x600 with 1 Axes>"
      ]
     },
     "metadata": {},
     "output_type": "display_data"
    }
   ],
   "source": [
    "import json\n",
    "import matplotlib.pyplot as plt\n",
    "\n",
    "# Lade die Metriken\n",
    "with open('metrics.json', 'r') as f:\n",
    "    metrics = json.load(f)\n",
    "\n",
    "batches = metrics['batch']\n",
    "train_losses = metrics['train_loss']\n",
    "val_losses = metrics['val_loss']\n",
    "\n",
    "plt.figure(figsize=(10, 6))\n",
    "plt.plot(batches, train_losses, label='Train Loss')\n",
    "plt.plot(batches, val_losses, label='Validation Loss')\n",
    "plt.title('Loss over batches')\n",
    "plt.xlabel('Batch')\n",
    "plt.ylabel('Loss')\n",
    "plt.grid(True)\n",
    "plt.legend()\n",
    "plt.show()"
   ]
  },
  {
   "cell_type": "markdown",
   "metadata": {},
   "source": [
    "Konfusionsmatrix"
   ]
  },
  {
   "cell_type": "code",
   "execution_count": null,
   "metadata": {},
   "outputs": [],
   "source": [
    "%pip install seaborn"
   ]
  },
  {
   "cell_type": "code",
   "execution_count": 21,
   "metadata": {},
   "outputs": [],
   "source": [
    "from sklearn.metrics import confusion_matrix\n",
    "import numpy as np\n",
    "\n",
    "true_labels_list = []\n",
    "predictions_list = []\n",
    "\n",
    "# Angenommen, dies ist deine Validierungsschleife oder ein separater Evaluierungsprozess\n",
    "for batch in val_loader:  # oder test_loader\n",
    "    inputs, attention_mask, labels = batch['input_ids'], batch['attention_mask'], batch['label']\n",
    "    inputs, attention_mask, labels = inputs.to(device), attention_mask.to(device), labels.to(device)  # Stelle sicher, dass sie auf dem richtigen Gerät sind\n",
    "\n",
    "    with torch.no_grad():\n",
    "        outputs = model(inputs, attention_mask=attention_mask, labels=labels)\n",
    "        # Hier bekommen wir die Logits (die Rohausgabe des Modells vor der Anwendung der Aktivierungsfunktion).\n",
    "        logits = outputs.logits  # oder outputs[0], abhängig von deinem Modell\n",
    "\n",
    "        # Bestimme die Klasse mit der höchsten Score für jede Eingabe in der Batch\n",
    "        _, predictions = torch.max(logits, dim=1)\n",
    "\n",
    "    # Sammle die wahren Labels und die Vorhersagen\n",
    "    true_labels_list.extend(labels.cpu().numpy())\n",
    "    predictions_list.extend(predictions.cpu().numpy())\n",
    "\n",
    "# Nachdem du alle Vorhersagen gesammelt hast, konvertiere Listen in Arrays\n",
    "true_labels = np.array(true_labels_list)\n",
    "predictions = np.array(predictions_list)\n"
   ]
  },
  {
   "cell_type": "code",
   "execution_count": null,
   "metadata": {},
   "outputs": [],
   "source": [
    "import matplotlib.pyplot as plt\n",
    "import seaborn as sns\n",
    "import numpy as np\n",
    "\n",
    "# Berechne die Konfusionsmatrix\n",
    "cm = confusion_matrix(true_labels, predictions)\n",
    "\n",
    "# Umdrehen der Matrix, so dass die Klasse 0 unten links ist\n",
    "cm_flipped = np.flipud(cm)\n",
    "\n",
    "# Visualisiere die umgedrehte Konfusionsmatrix\n",
    "plt.figure(figsize=(10, 7))\n",
    "sns.heatmap(cm_flipped, annot=True, fmt=\"d\", cmap='Blues')\n",
    "plt.title(\"Confusion Matrix\")\n",
    "plt.xlabel('Predicted Label')\n",
    "plt.ylabel('True Label')\n",
    "\n",
    "# Korrigiere die y-Achsen-Beschriftungen\n",
    "# plt.yticks() nimmt zwei Argumente: Die Positionen und die Labels der Ticks\n",
    "# Wir stellen die Positionen so ein, dass sie auf die Mitte der Kästen zeigen\n",
    "plt.yticks(np.arange(0.5, len(cm)), labels=np.arange(len(cm))[::-1])\n",
    "\n",
    "plt.show()"
   ]
  }
 ],
 "metadata": {
  "kernelspec": {
   "display_name": "Python 3",
   "language": "python",
   "name": "python3"
  },
  "language_info": {
   "codemirror_mode": {
    "name": "ipython",
    "version": 3
   },
   "file_extension": ".py",
   "mimetype": "text/x-python",
   "name": "python",
   "nbconvert_exporter": "python",
   "pygments_lexer": "ipython3",
   "version": "3.9.0"
  }
 },
 "nbformat": 4,
 "nbformat_minor": 2
}
