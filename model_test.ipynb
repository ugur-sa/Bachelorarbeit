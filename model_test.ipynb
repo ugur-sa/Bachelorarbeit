{
 "cells": [
  {
   "cell_type": "markdown",
   "metadata": {},
   "source": [
    "Abhängigkeiten"
   ]
  },
  {
   "cell_type": "code",
   "execution_count": null,
   "metadata": {},
   "outputs": [],
   "source": [
    "%pip install torch\n",
    "%pip install transformers"
   ]
  },
  {
   "cell_type": "markdown",
   "metadata": {},
   "source": [
    "Datenvorbereitung"
   ]
  },
  {
   "cell_type": "code",
   "execution_count": 1,
   "metadata": {},
   "outputs": [
    {
     "name": "stdout",
     "output_type": "stream",
     "text": [
      "Train data percentage: 72\n",
      "Test data percentage: 15\n",
      "Validation data percentage: 13\n"
     ]
    }
   ],
   "source": [
    "import sqlite3\n",
    "from sklearn.model_selection import train_test_split\n",
    "\n",
    "# Connect to the database\n",
    "conn = sqlite3.connect('sentiment.db')\n",
    "cursor = conn.cursor()\n",
    "\n",
    "# Fetch the data from the \"sentences\" table\n",
    "cursor.execute(\"SELECT sentence_text, final_sentiment FROM sentences WHERE final_sentiment != 'manual'\")\n",
    "data = cursor.fetchall()\n",
    "\n",
    "# Close the database connection\n",
    "conn.close()\n",
    "\n",
    "# Convert data to a dictionary with the keys \"text\" and \"label\"\n",
    "data = [{\"text\": text, \"label\": label} for text, label in data]\n",
    "# Convert bullish to 0, neutral to 1, and bearish to 2\n",
    "data = [{\"text\": row[\"text\"], \"label\": 0 if row[\"label\"] == \"bullish\" else 1 if row[\"label\"] == \"neutral\" else 2} for row in data]\n",
    "\n",
    "# Split the data into train, test, and validation sets\n",
    "train_data, test_data = train_test_split(data, test_size=0.15, random_state=42)\n",
    "train_data, val_data = train_test_split(train_data, test_size=0.15, random_state=42)\n",
    "\n",
    "# Print the sizes of the train, test, and validation sets\n",
    "print(\"Train data percentage:\", (round((len(train_data) / len(data)) * 100)))\n",
    "print(\"Test data percentage:\", (round((len(test_data) / len(data)) * 100)))\n",
    "print(\"Validation data percentage:\", (round((len(val_data) / len(data)) * 100)))"
   ]
  },
  {
   "cell_type": "markdown",
   "metadata": {},
   "source": [
    "Tokenization"
   ]
  },
  {
   "cell_type": "code",
   "execution_count": 2,
   "metadata": {},
   "outputs": [],
   "source": [
    "from transformers import AutoTokenizer\n",
    "import torch\n",
    "\n",
    "# Lade den Tokenizer\n",
    "model_name = 'ahmedrachid/FinancialBERT'\n",
    "tokenizer = AutoTokenizer.from_pretrained(model_name)\n",
    "\n",
    "# Funktion, um die Daten zu tokenisieren\n",
    "def tokenize_data(data):\n",
    "    tokenized_data = []\n",
    "    for item in data:\n",
    "        # Tokenisiere den Text und füge das Ergebnis dem Array hinzu\n",
    "        encoding = tokenizer(\n",
    "            item['text'],\n",
    "            padding='max_length',  # Pad kürzere Sätze\n",
    "            truncation=True,       # Schneide längere Sätze ab\n",
    "            max_length=512,        # Maximale Länge auf BERT's limit setzen\n",
    "            return_tensors='pt'    # Rückgabe als PyTorch Tensoren\n",
    "        )\n",
    "        tokenized_data.append({'input_ids': encoding['input_ids'].squeeze(0), 'attention_mask': encoding['attention_mask'].squeeze(0), 'label': item['label']})\n",
    "    return tokenized_data\n",
    "\n",
    "# Tokenisiere Trainings-, Test- und Validierungsdaten\n",
    "train_data_tokenized = tokenize_data(train_data)\n",
    "val_data_tokenized = tokenize_data(val_data)\n",
    "test_data_tokenized = tokenize_data(test_data)"
   ]
  },
  {
   "cell_type": "markdown",
   "metadata": {},
   "source": [
    "PyTorch Dataset"
   ]
  },
  {
   "cell_type": "code",
   "execution_count": 3,
   "metadata": {},
   "outputs": [],
   "source": [
    "from torch.utils.data import Dataset\n",
    "\n",
    "# Erstelle eine benutzerdefinierte Dataset-Klasse\n",
    "class SentimentDataset(Dataset):\n",
    "    def __init__(self, tokenized_data):\n",
    "        self.tokenized_data = tokenized_data\n",
    "\n",
    "    def __len__(self):\n",
    "        return len(self.tokenized_data)\n",
    "\n",
    "    def __getitem__(self, idx):\n",
    "        return self.tokenized_data[idx]\n",
    "\n",
    "# Erstelle PyTorch Datasets\n",
    "train_dataset = SentimentDataset(train_data_tokenized)\n",
    "val_dataset = SentimentDataset(val_data_tokenized)\n",
    "test_dataset = SentimentDataset(test_data_tokenized)"
   ]
  },
  {
   "cell_type": "markdown",
   "metadata": {},
   "source": [
    "DataLoader"
   ]
  },
  {
   "cell_type": "code",
   "execution_count": 4,
   "metadata": {},
   "outputs": [],
   "source": [
    "from torch.utils.data import DataLoader\n",
    "\n",
    "# Definiere Batch-Größe\n",
    "batch_size = 24\n",
    "\n",
    "# Erstelle DataLoaders\n",
    "train_loader = DataLoader(train_dataset, batch_size=batch_size, shuffle=True)\n",
    "val_loader = DataLoader(val_dataset, batch_size=batch_size, shuffle=False)\n",
    "test_loader = DataLoader(test_dataset, batch_size=batch_size, shuffle=False)"
   ]
  },
  {
   "cell_type": "markdown",
   "metadata": {},
   "source": [
    "Training"
   ]
  },
  {
   "cell_type": "code",
   "execution_count": 5,
   "metadata": {},
   "outputs": [
    {
     "name": "stderr",
     "output_type": "stream",
     "text": [
      "Some weights of BertForSequenceClassification were not initialized from the model checkpoint at ahmedrachid/FinancialBERT and are newly initialized: ['bert.pooler.dense.bias', 'classifier.bias', 'classifier.weight', 'bert.pooler.dense.weight']\n",
      "You should probably TRAIN this model on a down-stream task to be able to use it for predictions and inference.\n"
     ]
    }
   ],
   "source": [
    "from transformers import BertForSequenceClassification, get_linear_schedule_with_warmup\n",
    "import torch.optim as optim\n",
    "import json\n",
    "from sklearn.metrics import accuracy_score, f1_score, precision_score, recall_score\n",
    "\n",
    "metrics = {\n",
    "    'epoch': [],\n",
    "    'val_loss': [],\n",
    "    'accuracy': [],\n",
    "    'f1_score': [],\n",
    "    'precision': [],\n",
    "    'recall': []\n",
    "}\n",
    "\n",
    "# Funktion zum Aktualisieren der Metriken nach jeder Epoche\n",
    "def update_metrics(epoch, val_loss, accuracy, f1_score, precision, recall):\n",
    "    metrics['epoch'].append(epoch)\n",
    "    metrics['val_loss'].append(val_loss)\n",
    "    metrics['accuracy'].append(accuracy)\n",
    "    metrics['f1_score'].append(f1_score)\n",
    "    metrics['precision'].append(precision)\n",
    "    metrics['recall'].append(recall)\n",
    "\n",
    "# Füge diese Funktion hinzu, um die Validierungsleistung zu bewerten\n",
    "def evaluate(model, val_loader, device):\n",
    "    model.eval()  # Setze das Modell in den Evaluierungsmodus\n",
    "    total_eval_loss = 0\n",
    "\n",
    "    # Listen für wahre Labels und Vorhersagen\n",
    "    true_labels = []\n",
    "    predictions = []\n",
    "\n",
    "    for batch in val_loader:\n",
    "        # Übertrage die Batch-Daten auf das richtige Device (z.B. GPU)\n",
    "        input_ids = batch['input_ids'].to(device)\n",
    "        attention_mask = batch['attention_mask'].to(device)\n",
    "        labels = batch['label'].to(device)\n",
    "\n",
    "        with torch.no_grad():  # Deaktiviere die Gradientenberechnung für die Evaluation\n",
    "            outputs = model(input_ids, attention_mask=attention_mask, labels=labels)\n",
    "\n",
    "        loss = outputs.loss\n",
    "        total_eval_loss += loss.item()\n",
    "\n",
    "        # Berechne Vorhersagen\n",
    "        logits = outputs.logits\n",
    "        preds = torch.argmax(logits, dim=-1)\n",
    "\n",
    "        # Sammle wahre Labels und Vorhersagen für Metrikberechnung\n",
    "        predictions.extend(preds.cpu().numpy())\n",
    "        true_labels.extend(labels.cpu().numpy())\n",
    "\n",
    "    # Berechne Metriken\n",
    "    accuracy = accuracy_score(true_labels, predictions)\n",
    "    f1 = f1_score(true_labels, predictions, average='weighted')\n",
    "    precision = precision_score(true_labels, predictions, average='weighted')\n",
    "    recall = recall_score(true_labels, predictions, average='weighted')\n",
    "\n",
    "    return total_eval_loss / len(val_loader), accuracy, f1, precision, recall  # Gib Durchschnittsverlust und Metriken zurück\n",
    "\n",
    "\n",
    "# Modell laden\n",
    "model = BertForSequenceClassification.from_pretrained('ahmedrachid/FinancialBERT', num_labels=3)  # Angenommene 3 Labels: bullish, neutral, bearish\n",
    "model.train()  # Setze das Modell in den Trainingsmodus\n",
    "\n",
    "# Überprüfen, ob CUDA verfügbar ist und eine GPU zuweisen\n",
    "device = torch.device(\"cuda\" if torch.cuda.is_available() else \"cpu\")\n",
    "model.to(device)  # Modell auf die GPU verschieben\n",
    "\n",
    "# Optimierer definieren\n",
    "optimizer = optim.AdamW(model.parameters(), lr=5e-5)\n",
    "num_epochs = 3\n",
    "\n",
    "# Gesamte Trainingssteps und Warm-Up Steps definieren\n",
    "total_steps = len(train_loader) * num_epochs  # Gesamte Anzahl von Trainingsschritten\n",
    "warmup_steps = int(total_steps * 0.1)  # 10% der Trainingsschritte als Warm-Up\n",
    "\n",
    "# Scheduler initialisieren\n",
    "scheduler = get_linear_schedule_with_warmup(optimizer, num_warmup_steps=warmup_steps, num_training_steps=total_steps)\n",
    "\n",
    "\n",
    "for epoch in range(num_epochs):  # num_epochs ist die Anzahl der Epochen, die du trainieren möchtest\n",
    "    for batch in train_loader:\n",
    "        # Extrahiere Daten aus dem Batch\n",
    "        input_ids = batch['input_ids'].to(device)\n",
    "        attention_mask = batch['attention_mask'].to(device)\n",
    "        labels = batch['label'].to(device)  # Stelle sicher, dass deine Labels als Tensor von numerischen Labels vorliegen\n",
    "\n",
    "        # Null the gradients\n",
    "        # optimizer.zero_grad()\n",
    "\n",
    "        # Forward pass\n",
    "        outputs = model(input_ids, attention_mask=attention_mask, labels=labels)\n",
    "        loss = outputs.loss\n",
    "\n",
    "        # Backward pass\n",
    "        loss.backward()\n",
    "        optimizer.step()\n",
    "        scheduler.step()\n",
    "        optimizer.zero_grad()\n",
    "\n",
    "    # Validierung am Ende der Epoche\n",
    "    val_loss, val_accuracy, val_f1, precision, recall = evaluate(model, val_loader, device)\n",
    "    print(f\"Epoch {epoch}, Validation Loss: {val_loss}, Accuracy: {val_accuracy}, F1 Score: {val_f1}, Precision: {precision}, Recall: {recall}\")\n",
    "\n",
    "    # Aktualisiere Metriken für jede Epoche\n",
    "    update_metrics(epoch, val_loss, val_accuracy, val_f1, precision, recall)\n",
    "\n",
    "with open('metrics.json', 'w') as f:\n",
    "    json.dump(metrics, f)"
   ]
  },
  {
   "cell_type": "code",
   "execution_count": 19,
   "metadata": {},
   "outputs": [
    {
     "name": "stdout",
     "output_type": "stream",
     "text": [
      "Test Loss:  0.404895210072418\n"
     ]
    }
   ],
   "source": [
    "model.eval()  # Schalte das Modell in den Evaluierungsmodus\n",
    "\n",
    "total_eval_accuracy = 0\n",
    "total_eval_loss = 0\n",
    "\n",
    "for batch in test_loader:  # Verwende den Test-DataLoader\n",
    "    \n",
    "    # Übertrage die Batch-Daten auf das richtige Device (z.B. GPU)\n",
    "    input_ids = batch['input_ids'].to(device)\n",
    "    attention_mask = batch['attention_mask'].to(device)\n",
    "    labels = batch['label'].to(device)\n",
    "\n",
    "    with torch.no_grad():  # Deaktiviere die Gradientenberechnung für die Evaluation\n",
    "        outputs = model(input_ids, attention_mask=attention_mask, labels=labels)\n",
    "\n",
    "    # Berechne den Verlust und akkumuliere den Gesamtverlust.\n",
    "    loss = outputs.loss\n",
    "    total_eval_loss += loss.item()\n",
    "\n",
    "    # Hier kannst du zusätzliche Metriken hinzufügen, wie z.B. die Genauigkeit.\n",
    "\n",
    "# Berechne die durchschnittliche Verlust über alle Testbatches\n",
    "avg_test_loss = total_eval_loss / len(test_loader)\n",
    "print(\"Test Loss: \", avg_test_loss)\n"
   ]
  },
  {
   "cell_type": "code",
   "execution_count": 16,
   "metadata": {},
   "outputs": [],
   "source": [
    "model.save_pretrained(\"financialbert/results/2\")"
   ]
  },
  {
   "cell_type": "code",
   "execution_count": 14,
   "metadata": {},
   "outputs": [
    {
     "name": "stdout",
     "output_type": "stream",
     "text": [
      "Accuracy: {'accuracy': 0.9161118508655126}\n",
      "F1-Score: {'f1': 0.9161951705867702}\n"
     ]
    }
   ],
   "source": [
    "import evaluate\n",
    "\n",
    "# Lade die Metriken\n",
    "accuracy_metric = evaluate.load(\"accuracy\")\n",
    "f1_metric = evaluate.load(\"f1\")\n",
    "precision_metric = evaluate.load(\"precision\")\n",
    "recall_metric = evaluate.load(\"recall\")\n",
    "\n",
    "model.eval()  # Setze das Modell in den Evaluierungsmodus\n",
    "\n",
    "for batch in test_loader:  # oder test_loader\n",
    "    inputs, attention_mask, labels = batch['input_ids'], batch['attention_mask'].to(device), batch['label']\n",
    "    inputs, attention_mask, labels = inputs.to(device), attention_mask.to(device), labels.to(device)  # Stelle sicher, dass sie auf dem richtigen Gerät sind\n",
    "\n",
    "    with torch.no_grad():\n",
    "        outputs = model(inputs, attention_mask=attention_mask, labels=labels)\n",
    "\n",
    "    # Konvertiere die Ausgaben des Modells in Vorhersagen\n",
    "    logits = outputs.logits if hasattr(outputs, \"logits\") else outputs[0]\n",
    "    predictions = torch.argmax(logits, dim=-1)\n",
    "\n",
    "    # Aktualisiere die Metriken mit den Vorhersagen und den wahren Labels\n",
    "    accuracy_metric.add_batch(predictions=predictions, references=labels)\n",
    "    f1_metric.add_batch(predictions=predictions, references=labels)\n",
    "\n",
    "# Berechne die finale Metrik\n",
    "final_accuracy = accuracy_metric.compute()\n",
    "final_f1 = f1_metric.compute(average=\"weighted\")  # oder andere Durchschnittswerte je nach Bedarf\n",
    "\n",
    "print(\"Accuracy:\", final_accuracy)\n",
    "print(\"F1-Score:\", final_f1)"
   ]
  },
  {
   "cell_type": "markdown",
   "metadata": {},
   "source": [
    "Graphen Matplotlib"
   ]
  },
  {
   "cell_type": "code",
   "execution_count": null,
   "metadata": {},
   "outputs": [],
   "source": [
    "%pip install matplotlib"
   ]
  },
  {
   "cell_type": "code",
   "execution_count": 12,
   "metadata": {},
   "outputs": [
    {
     "data": {
      "image/png": "[encoded data removed]",
      "text/plain": [
       "<Figure size 640x480 with 1 Axes>"
      ]
     },
     "metadata": {},
     "output_type": "display_data"
    }
   ],
   "source": [
    "import json\n",
    "import matplotlib.pyplot as plt\n",
    "\n",
    "# Lade die Metriken\n",
    "with open('metrics.json', 'r') as f:\n",
    "    metrics = json.load(f)\n",
    "\n",
    "# Verwende die Metriken, um Grafiken zu erstellen\n",
    "plt.plot(metrics['epoch'], metrics['accuracy'], label='Accuracy')\n",
    "plt.plot(metrics['epoch'], metrics['f1_score'], label='F1')\n",
    "# plt.plot(metrics['epoch'], metrics['val_loss'], label='Validation Loss')\n",
    "# Füge weitere Plots für Accuracy, F1-Score, etc. hinzu\n",
    "plt.legend()\n",
    "plt.show()\n"
   ]
  },
  {
   "cell_type": "markdown",
   "metadata": {},
   "source": [
    "Konfusionsmatrix"
   ]
  },
  {
   "cell_type": "code",
   "execution_count": null,
   "metadata": {},
   "outputs": [],
   "source": [
    "%pip install seaborn"
   ]
  },
  {
   "cell_type": "code",
   "execution_count": 17,
   "metadata": {},
   "outputs": [],
   "source": [
    "from sklearn.metrics import confusion_matrix\n",
    "import numpy as np\n",
    "\n",
    "true_labels_list = []\n",
    "predictions_list = []\n",
    "\n",
    "# Angenommen, dies ist deine Validierungsschleife oder ein separater Evaluierungsprozess\n",
    "for batch in val_loader:  # oder test_loader\n",
    "    inputs, labels = batch['input_ids'], batch['label']\n",
    "    inputs, labels = inputs.to(device), labels.to(device)  # Stelle sicher, dass sie auf dem richtigen Gerät sind\n",
    "\n",
    "    with torch.no_grad():\n",
    "        outputs = model(inputs)\n",
    "        # Hier bekommen wir die Logits (die Rohausgabe des Modells vor der Anwendung der Aktivierungsfunktion).\n",
    "        logits = outputs.logits  # oder outputs[0], abhängig von deinem Modell\n",
    "\n",
    "        # Bestimme die Klasse mit der höchsten Score für jede Eingabe in der Batch\n",
    "        _, predictions = torch.max(logits, dim=1)\n",
    "\n",
    "    # Sammle die wahren Labels und die Vorhersagen\n",
    "    true_labels_list.extend(labels.cpu().numpy())\n",
    "    predictions_list.extend(predictions.cpu().numpy())\n",
    "\n",
    "# Nachdem du alle Vorhersagen gesammelt hast, konvertiere Listen in Arrays\n",
    "true_labels = np.array(true_labels_list)\n",
    "predictions = np.array(predictions_list)\n"
   ]
  },
  {
   "cell_type": "code",
   "execution_count": 22,
   "metadata": {},
   "outputs": [
    {
     "data": {
      "image/png": "[encoded data removed]",
      "text/plain": [
       "<Figure size 1000x700 with 2 Axes>"
      ]
     },
     "metadata": {},
     "output_type": "display_data"
    }
   ],
   "source": [
    "import matplotlib.pyplot as plt\n",
    "import seaborn as sns\n",
    "import numpy as np\n",
    "\n",
    "# Berechne die Konfusionsmatrix\n",
    "cm = confusion_matrix(true_labels, predictions)\n",
    "\n",
    "# Umdrehen der Matrix, so dass die Klasse 0 unten links ist\n",
    "cm_flipped = np.flipud(cm)\n",
    "\n",
    "# Visualisiere die umgedrehte Konfusionsmatrix\n",
    "plt.figure(figsize=(10, 7))\n",
    "sns.heatmap(cm_flipped, annot=True, fmt=\"d\", cmap='Blues')\n",
    "plt.title(\"Confusion Matrix\")\n",
    "plt.xlabel('Predicted Label')\n",
    "plt.ylabel('True Label')\n",
    "\n",
    "# Korrigiere die y-Achsen-Beschriftungen\n",
    "# plt.yticks() nimmt zwei Argumente: Die Positionen und die Labels der Ticks\n",
    "# Wir stellen die Positionen so ein, dass sie auf die Mitte der Kästen zeigen\n",
    "plt.yticks(np.arange(0.5, len(cm)), labels=np.arange(len(cm))[::-1])\n",
    "\n",
    "plt.show()\n"
   ]
  }
 ],
 "metadata": {
  "kernelspec": {
   "display_name": "Python 3",
   "language": "python",
   "name": "python3"
  },
  "language_info": {
   "codemirror_mode": {
    "name": "ipython",
    "version": 3
   },
   "file_extension": ".py",
   "mimetype": "text/x-python",
   "name": "python",
   "nbconvert_exporter": "python",
   "pygments_lexer": "ipython3",
   "version": "3.9.0"
  }
 },
 "nbformat": 4,
 "nbformat_minor": 2
}
